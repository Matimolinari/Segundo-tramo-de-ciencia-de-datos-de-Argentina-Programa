{
  "nbformat": 4,
  "nbformat_minor": 0,
  "metadata": {
    "colab": {
      "provenance": [],
      "collapsed_sections": [
        "sjms7ns6zW-9"
      ]
    },
    "kernelspec": {
      "name": "python3",
      "display_name": "Python 3"
    },
    "language_info": {
      "name": "python"
    }
  },
  "cells": [
    {
      "cell_type": "markdown",
      "source": [
        "# ***TRABAJO INTEGRADOR I- ***\n",
        "DATOS BASADOS EN INFORMACIÓN PÚBLICA EN ARGENTINA\n",
        "\n",
        "\n"
      ],
      "metadata": {
        "id": "yWFMEJp2Zd1E"
      }
    },
    {
      "cell_type": "markdown",
      "source": [
        "---\n",
        "## **Acceso a los diferentes dataset y visualizacion**\n",
        "\n",
        "#Los dataset podran ser descargado del siguiente [enlace de drive](https://drive.google.com/drive/folders/1J-R6fricR7D1uf9g_Cg8gbIMajCe-eYw?usp=sharing). en algunos casos los datase contiene información de diferentes periodos de tiempo y etiquetas de las variables con nomenclatura específica. Para tener referencia de los datos de cada variables de la base de datos consultar en los siguientes enlaces según el dataset elegido.\n",
        "\n",
        "\n",
        "\n",
        "|    | Tema | Nombre del archivo | Enlace |\n",
        "|---|    ---   |         ---         |   ---  |\n",
        "1   | .... | spam.csv  |  ....   |\n",
        "2   | supermercados| ventas-supermercados-2.csv  | [dataset de supermercados](https://www.datos.gob.ar/dataset/sspm_455/archivo/sspm_455.1) |\n",
        "3   | Mercado Central de Bs As |precios-mercadocentral.csv| [dataset de mercado](https://datos.gob.ar/ar/dataset/agroindustria-frutas-hortalizas---precios-mayoristas/archivo/agroindustria_6dce1e87-7988-4eaf-b0e1-b3abbb3964da) |"
      ],
      "metadata": {
        "id": "DzfaPyiWmMZJ"
      }
    },
    {
      "cell_type": "markdown",
      "source": [
        "#Apellido, Nombre, DNI, email de todos los integrantes del grupo\n",
        "\n",
        "\n",
        "Molinari Matias\n",
        "Dni: 40756166\n",
        "email: matiasmolinari_14@hotmail.com"
      ],
      "metadata": {
        "id": "s6OYVREZDtXF"
      }
    },
    {
      "cell_type": "markdown",
      "source": [
        "#Redactar en formato resumen la problematica planteado e interes en el análisis del dataset elegido, el impacto que puede llevar a futuro analizar o cruzar información sobre dichas variables ,y cual sería a priori, el modelo a resulado que usted quisiera encontrar en funciones de determinadas condiciones. Esto deberá ser detallado en forma breve a modo de introducción\n"
      ],
      "metadata": {
        "id": "Q2wopJgTECIF"
      }
    },
    {
      "cell_type": "markdown",
      "source": [
        "El data set que elegimos para este tp va a ser el de Precios del mercado central de argentina, que contiene informacion sobre los precios de los productos durante en difentes años.La problematica que planteamos radica en el modelo que nos gustaria que fuera  uno que pueda predecir con precisión el 'precio_usd_kg' en función del 'año', en endenter como estos precios han evolucionado a lo largo del tiempo y si es posible predecir futuras tendencias de precios.\n",
        "\n",
        "El analisis de este conjunto puede ayudar en gran parte a los productores, comerciantes y consumidores al entender las tendencias de los precios asi pueden tomar decisiones mas firmes.\n"
      ],
      "metadata": {
        "id": "OKsbIcB8EYGh"
      }
    },
    {
      "cell_type": "markdown",
      "source": [
        "_________________________________________________________________\n",
        "_________________________________________________________________\n",
        "_________________________________________________________________\n",
        "_________________________________________________________________\n",
        "##1- Ingrese el DATA SET"
      ],
      "metadata": {
        "id": "9YjUx7xKzBnw"
      }
    },
    {
      "cell_type": "code",
      "execution_count": 9,
      "metadata": {
        "id": "fDny-v5Dxl6I"
      },
      "outputs": [],
      "source": [
        "#Subir archivo en la carpetita que aparece a la izquierda del colab, luego copiar la ruta y subirlo con las librerias necesarias\n",
        "# Librerias de ayuda\n",
        "import pandas as pd\n",
        "import numpy as np\n",
        "import matplotlib.pyplot as plt\n",
        "from sklearn.metrics import confusion_matrix\n",
        "import seaborn as sns\n",
        "from matplotlib import pyplot as plt\n",
        "from sklearn.cluster import KMeans\n",
        "\n",
        "#Data set.\n",
        "df_mercadocentral = pd.read_csv('/content/precios-mercadocentral.csv')"
      ]
    },
    {
      "cell_type": "markdown",
      "source": [
        "##2- Aplicar PROCESO de EDA"
      ],
      "metadata": {
        "id": "ajWaCuM0zJhN"
      }
    },
    {
      "cell_type": "code",
      "source": [
        "df_mercadocentral.info"
      ],
      "metadata": {
        "id": "7t0-4wZyziwH",
        "colab": {
          "base_uri": "https://localhost:8080/"
        },
        "outputId": "ba25ca0a-94d6-4a6a-8d29-c999a298aad5"
      },
      "execution_count": 10,
      "outputs": [
        {
          "output_type": "execute_result",
          "data": {
            "text/plain": [
              "<bound method DataFrame.info of      pais_id       pais                          mercado   año     mes  \\\n",
              "0         32  Argentina  Mercado Central de Buenos Aires  2017   Enero   \n",
              "1         32  Argentina  Mercado Central de Buenos Aires  2017   Enero   \n",
              "2         32  Argentina  Mercado Central de Buenos Aires  2017   Enero   \n",
              "3         32  Argentina  Mercado Central de Buenos Aires  2017   Enero   \n",
              "4         32  Argentina  Mercado Central de Buenos Aires  2017   Enero   \n",
              "..       ...        ...                              ...   ...     ...   \n",
              "823       32  Argentina  Mercado Central de Buenos Aires  2018  Agosto   \n",
              "824       32  Argentina  Mercado Central de Buenos Aires  2018  Agosto   \n",
              "825       32  Argentina  Mercado Central de Buenos Aires  2018  Agosto   \n",
              "826       32  Argentina  Mercado Central de Buenos Aires  2018  Agosto   \n",
              "827       32  Argentina  Mercado Central de Buenos Aires  2018  Agosto   \n",
              "\n",
              "      producto       variedad         origen  precio_usd_kg moneda_cod  \\\n",
              "0        Anana         Perola         Brasil           1.22        USD   \n",
              "1       Banana        Cavdich        Ecuador           0.53        USD   \n",
              "2       Pomelo      Star Ruby      Argentina           0.86        USD   \n",
              "3        Limón         Eureka      Argentina           1.52        USD   \n",
              "4      Manzana   Granny Smith      Argentina           1.84        USD   \n",
              "..         ...            ...            ...            ...        ...   \n",
              "823    Repollo  s/especificar  s/especificar           0.36        USD   \n",
              "824     Tomate  s/especificar  s/especificar           1.15        USD   \n",
              "825  Zanahoria  s/especificar  s/especificar           0.29        USD   \n",
              "826  Zapallito  s/especificar  s/especificar           1.01        USD   \n",
              "827    Zapallo  s/especificar  s/especificar           0.32        USD   \n",
              "\n",
              "      moneda  \n",
              "0    Dolares  \n",
              "1    Dolares  \n",
              "2    Dolares  \n",
              "3    Dolares  \n",
              "4    Dolares  \n",
              "..       ...  \n",
              "823  Dolares  \n",
              "824  Dolares  \n",
              "825  Dolares  \n",
              "826  Dolares  \n",
              "827  Dolares  \n",
              "\n",
              "[828 rows x 11 columns]>"
            ]
          },
          "metadata": {},
          "execution_count": 10
        }
      ]
    },
    {
      "cell_type": "code",
      "source": [
        "df_mercadocentral.head()"
      ],
      "metadata": {
        "colab": {
          "base_uri": "https://localhost:8080/",
          "height": 206
        },
        "id": "bsLwS0vD_ehN",
        "outputId": "795d6492-1336-450c-e522-4a823c6839a6"
      },
      "execution_count": 14,
      "outputs": [
        {
          "output_type": "execute_result",
          "data": {
            "text/plain": [
              "   pais_id       pais                          mercado   año    mes producto  \\\n",
              "0       32  Argentina  Mercado Central de Buenos Aires  2017  Enero    Anana   \n",
              "1       32  Argentina  Mercado Central de Buenos Aires  2017  Enero   Banana   \n",
              "2       32  Argentina  Mercado Central de Buenos Aires  2017  Enero   Pomelo   \n",
              "3       32  Argentina  Mercado Central de Buenos Aires  2017  Enero    Limón   \n",
              "4       32  Argentina  Mercado Central de Buenos Aires  2017  Enero  Manzana   \n",
              "\n",
              "       variedad     origen  precio_usd_kg moneda_cod   moneda  \n",
              "0        Perola     Brasil           1.22        USD  Dolares  \n",
              "1       Cavdich    Ecuador           0.53        USD  Dolares  \n",
              "2     Star Ruby  Argentina           0.86        USD  Dolares  \n",
              "3        Eureka  Argentina           1.52        USD  Dolares  \n",
              "4  Granny Smith  Argentina           1.84        USD  Dolares  "
            ],
            "text/html": [
              "\n",
              "  <div id=\"df-7f313139-caf6-4763-89f8-e1e69c09b4d4\" class=\"colab-df-container\">\n",
              "    <div>\n",
              "<style scoped>\n",
              "    .dataframe tbody tr th:only-of-type {\n",
              "        vertical-align: middle;\n",
              "    }\n",
              "\n",
              "    .dataframe tbody tr th {\n",
              "        vertical-align: top;\n",
              "    }\n",
              "\n",
              "    .dataframe thead th {\n",
              "        text-align: right;\n",
              "    }\n",
              "</style>\n",
              "<table border=\"1\" class=\"dataframe\">\n",
              "  <thead>\n",
              "    <tr style=\"text-align: right;\">\n",
              "      <th></th>\n",
              "      <th>pais_id</th>\n",
              "      <th>pais</th>\n",
              "      <th>mercado</th>\n",
              "      <th>año</th>\n",
              "      <th>mes</th>\n",
              "      <th>producto</th>\n",
              "      <th>variedad</th>\n",
              "      <th>origen</th>\n",
              "      <th>precio_usd_kg</th>\n",
              "      <th>moneda_cod</th>\n",
              "      <th>moneda</th>\n",
              "    </tr>\n",
              "  </thead>\n",
              "  <tbody>\n",
              "    <tr>\n",
              "      <th>0</th>\n",
              "      <td>32</td>\n",
              "      <td>Argentina</td>\n",
              "      <td>Mercado Central de Buenos Aires</td>\n",
              "      <td>2017</td>\n",
              "      <td>Enero</td>\n",
              "      <td>Anana</td>\n",
              "      <td>Perola</td>\n",
              "      <td>Brasil</td>\n",
              "      <td>1.22</td>\n",
              "      <td>USD</td>\n",
              "      <td>Dolares</td>\n",
              "    </tr>\n",
              "    <tr>\n",
              "      <th>1</th>\n",
              "      <td>32</td>\n",
              "      <td>Argentina</td>\n",
              "      <td>Mercado Central de Buenos Aires</td>\n",
              "      <td>2017</td>\n",
              "      <td>Enero</td>\n",
              "      <td>Banana</td>\n",
              "      <td>Cavdich</td>\n",
              "      <td>Ecuador</td>\n",
              "      <td>0.53</td>\n",
              "      <td>USD</td>\n",
              "      <td>Dolares</td>\n",
              "    </tr>\n",
              "    <tr>\n",
              "      <th>2</th>\n",
              "      <td>32</td>\n",
              "      <td>Argentina</td>\n",
              "      <td>Mercado Central de Buenos Aires</td>\n",
              "      <td>2017</td>\n",
              "      <td>Enero</td>\n",
              "      <td>Pomelo</td>\n",
              "      <td>Star Ruby</td>\n",
              "      <td>Argentina</td>\n",
              "      <td>0.86</td>\n",
              "      <td>USD</td>\n",
              "      <td>Dolares</td>\n",
              "    </tr>\n",
              "    <tr>\n",
              "      <th>3</th>\n",
              "      <td>32</td>\n",
              "      <td>Argentina</td>\n",
              "      <td>Mercado Central de Buenos Aires</td>\n",
              "      <td>2017</td>\n",
              "      <td>Enero</td>\n",
              "      <td>Limón</td>\n",
              "      <td>Eureka</td>\n",
              "      <td>Argentina</td>\n",
              "      <td>1.52</td>\n",
              "      <td>USD</td>\n",
              "      <td>Dolares</td>\n",
              "    </tr>\n",
              "    <tr>\n",
              "      <th>4</th>\n",
              "      <td>32</td>\n",
              "      <td>Argentina</td>\n",
              "      <td>Mercado Central de Buenos Aires</td>\n",
              "      <td>2017</td>\n",
              "      <td>Enero</td>\n",
              "      <td>Manzana</td>\n",
              "      <td>Granny Smith</td>\n",
              "      <td>Argentina</td>\n",
              "      <td>1.84</td>\n",
              "      <td>USD</td>\n",
              "      <td>Dolares</td>\n",
              "    </tr>\n",
              "  </tbody>\n",
              "</table>\n",
              "</div>\n",
              "    <div class=\"colab-df-buttons\">\n",
              "\n",
              "  <div class=\"colab-df-container\">\n",
              "    <button class=\"colab-df-convert\" onclick=\"convertToInteractive('df-7f313139-caf6-4763-89f8-e1e69c09b4d4')\"\n",
              "            title=\"Convert this dataframe to an interactive table.\"\n",
              "            style=\"display:none;\">\n",
              "\n",
              "  <svg xmlns=\"http://www.w3.org/2000/svg\" height=\"24px\" viewBox=\"0 -960 960 960\">\n",
              "    <path d=\"M120-120v-720h720v720H120Zm60-500h600v-160H180v160Zm220 220h160v-160H400v160Zm0 220h160v-160H400v160ZM180-400h160v-160H180v160Zm440 0h160v-160H620v160ZM180-180h160v-160H180v160Zm440 0h160v-160H620v160Z\"/>\n",
              "  </svg>\n",
              "    </button>\n",
              "\n",
              "  <style>\n",
              "    .colab-df-container {\n",
              "      display:flex;\n",
              "      gap: 12px;\n",
              "    }\n",
              "\n",
              "    .colab-df-convert {\n",
              "      background-color: #E8F0FE;\n",
              "      border: none;\n",
              "      border-radius: 50%;\n",
              "      cursor: pointer;\n",
              "      display: none;\n",
              "      fill: #1967D2;\n",
              "      height: 32px;\n",
              "      padding: 0 0 0 0;\n",
              "      width: 32px;\n",
              "    }\n",
              "\n",
              "    .colab-df-convert:hover {\n",
              "      background-color: #E2EBFA;\n",
              "      box-shadow: 0px 1px 2px rgba(60, 64, 67, 0.3), 0px 1px 3px 1px rgba(60, 64, 67, 0.15);\n",
              "      fill: #174EA6;\n",
              "    }\n",
              "\n",
              "    .colab-df-buttons div {\n",
              "      margin-bottom: 4px;\n",
              "    }\n",
              "\n",
              "    [theme=dark] .colab-df-convert {\n",
              "      background-color: #3B4455;\n",
              "      fill: #D2E3FC;\n",
              "    }\n",
              "\n",
              "    [theme=dark] .colab-df-convert:hover {\n",
              "      background-color: #434B5C;\n",
              "      box-shadow: 0px 1px 3px 1px rgba(0, 0, 0, 0.15);\n",
              "      filter: drop-shadow(0px 1px 2px rgba(0, 0, 0, 0.3));\n",
              "      fill: #FFFFFF;\n",
              "    }\n",
              "  </style>\n",
              "\n",
              "    <script>\n",
              "      const buttonEl =\n",
              "        document.querySelector('#df-7f313139-caf6-4763-89f8-e1e69c09b4d4 button.colab-df-convert');\n",
              "      buttonEl.style.display =\n",
              "        google.colab.kernel.accessAllowed ? 'block' : 'none';\n",
              "\n",
              "      async function convertToInteractive(key) {\n",
              "        const element = document.querySelector('#df-7f313139-caf6-4763-89f8-e1e69c09b4d4');\n",
              "        const dataTable =\n",
              "          await google.colab.kernel.invokeFunction('convertToInteractive',\n",
              "                                                    [key], {});\n",
              "        if (!dataTable) return;\n",
              "\n",
              "        const docLinkHtml = 'Like what you see? Visit the ' +\n",
              "          '<a target=\"_blank\" href=https://colab.research.google.com/notebooks/data_table.ipynb>data table notebook</a>'\n",
              "          + ' to learn more about interactive tables.';\n",
              "        element.innerHTML = '';\n",
              "        dataTable['output_type'] = 'display_data';\n",
              "        await google.colab.output.renderOutput(dataTable, element);\n",
              "        const docLink = document.createElement('div');\n",
              "        docLink.innerHTML = docLinkHtml;\n",
              "        element.appendChild(docLink);\n",
              "      }\n",
              "    </script>\n",
              "  </div>\n",
              "\n",
              "\n",
              "<div id=\"df-916ae16a-4167-4743-a120-f26b1c446664\">\n",
              "  <button class=\"colab-df-quickchart\" onclick=\"quickchart('df-916ae16a-4167-4743-a120-f26b1c446664')\"\n",
              "            title=\"Suggest charts.\"\n",
              "            style=\"display:none;\">\n",
              "\n",
              "<svg xmlns=\"http://www.w3.org/2000/svg\" height=\"24px\"viewBox=\"0 0 24 24\"\n",
              "     width=\"24px\">\n",
              "    <g>\n",
              "        <path d=\"M19 3H5c-1.1 0-2 .9-2 2v14c0 1.1.9 2 2 2h14c1.1 0 2-.9 2-2V5c0-1.1-.9-2-2-2zM9 17H7v-7h2v7zm4 0h-2V7h2v10zm4 0h-2v-4h2v4z\"/>\n",
              "    </g>\n",
              "</svg>\n",
              "  </button>\n",
              "\n",
              "<style>\n",
              "  .colab-df-quickchart {\n",
              "      --bg-color: #E8F0FE;\n",
              "      --fill-color: #1967D2;\n",
              "      --hover-bg-color: #E2EBFA;\n",
              "      --hover-fill-color: #174EA6;\n",
              "      --disabled-fill-color: #AAA;\n",
              "      --disabled-bg-color: #DDD;\n",
              "  }\n",
              "\n",
              "  [theme=dark] .colab-df-quickchart {\n",
              "      --bg-color: #3B4455;\n",
              "      --fill-color: #D2E3FC;\n",
              "      --hover-bg-color: #434B5C;\n",
              "      --hover-fill-color: #FFFFFF;\n",
              "      --disabled-bg-color: #3B4455;\n",
              "      --disabled-fill-color: #666;\n",
              "  }\n",
              "\n",
              "  .colab-df-quickchart {\n",
              "    background-color: var(--bg-color);\n",
              "    border: none;\n",
              "    border-radius: 50%;\n",
              "    cursor: pointer;\n",
              "    display: none;\n",
              "    fill: var(--fill-color);\n",
              "    height: 32px;\n",
              "    padding: 0;\n",
              "    width: 32px;\n",
              "  }\n",
              "\n",
              "  .colab-df-quickchart:hover {\n",
              "    background-color: var(--hover-bg-color);\n",
              "    box-shadow: 0 1px 2px rgba(60, 64, 67, 0.3), 0 1px 3px 1px rgba(60, 64, 67, 0.15);\n",
              "    fill: var(--button-hover-fill-color);\n",
              "  }\n",
              "\n",
              "  .colab-df-quickchart-complete:disabled,\n",
              "  .colab-df-quickchart-complete:disabled:hover {\n",
              "    background-color: var(--disabled-bg-color);\n",
              "    fill: var(--disabled-fill-color);\n",
              "    box-shadow: none;\n",
              "  }\n",
              "\n",
              "  .colab-df-spinner {\n",
              "    border: 2px solid var(--fill-color);\n",
              "    border-color: transparent;\n",
              "    border-bottom-color: var(--fill-color);\n",
              "    animation:\n",
              "      spin 1s steps(1) infinite;\n",
              "  }\n",
              "\n",
              "  @keyframes spin {\n",
              "    0% {\n",
              "      border-color: transparent;\n",
              "      border-bottom-color: var(--fill-color);\n",
              "      border-left-color: var(--fill-color);\n",
              "    }\n",
              "    20% {\n",
              "      border-color: transparent;\n",
              "      border-left-color: var(--fill-color);\n",
              "      border-top-color: var(--fill-color);\n",
              "    }\n",
              "    30% {\n",
              "      border-color: transparent;\n",
              "      border-left-color: var(--fill-color);\n",
              "      border-top-color: var(--fill-color);\n",
              "      border-right-color: var(--fill-color);\n",
              "    }\n",
              "    40% {\n",
              "      border-color: transparent;\n",
              "      border-right-color: var(--fill-color);\n",
              "      border-top-color: var(--fill-color);\n",
              "    }\n",
              "    60% {\n",
              "      border-color: transparent;\n",
              "      border-right-color: var(--fill-color);\n",
              "    }\n",
              "    80% {\n",
              "      border-color: transparent;\n",
              "      border-right-color: var(--fill-color);\n",
              "      border-bottom-color: var(--fill-color);\n",
              "    }\n",
              "    90% {\n",
              "      border-color: transparent;\n",
              "      border-bottom-color: var(--fill-color);\n",
              "    }\n",
              "  }\n",
              "</style>\n",
              "\n",
              "  <script>\n",
              "    async function quickchart(key) {\n",
              "      const quickchartButtonEl =\n",
              "        document.querySelector('#' + key + ' button');\n",
              "      quickchartButtonEl.disabled = true;  // To prevent multiple clicks.\n",
              "      quickchartButtonEl.classList.add('colab-df-spinner');\n",
              "      try {\n",
              "        const charts = await google.colab.kernel.invokeFunction(\n",
              "            'suggestCharts', [key], {});\n",
              "      } catch (error) {\n",
              "        console.error('Error during call to suggestCharts:', error);\n",
              "      }\n",
              "      quickchartButtonEl.classList.remove('colab-df-spinner');\n",
              "      quickchartButtonEl.classList.add('colab-df-quickchart-complete');\n",
              "    }\n",
              "    (() => {\n",
              "      let quickchartButtonEl =\n",
              "        document.querySelector('#df-916ae16a-4167-4743-a120-f26b1c446664 button');\n",
              "      quickchartButtonEl.style.display =\n",
              "        google.colab.kernel.accessAllowed ? 'block' : 'none';\n",
              "    })();\n",
              "  </script>\n",
              "</div>\n",
              "    </div>\n",
              "  </div>\n"
            ]
          },
          "metadata": {},
          "execution_count": 14
        }
      ]
    },
    {
      "cell_type": "code",
      "source": [
        "df_mercadocentral.describe"
      ],
      "metadata": {
        "colab": {
          "base_uri": "https://localhost:8080/"
        },
        "id": "zht5tF64_hgw",
        "outputId": "278abef9-aa0d-488d-8627-3f94952ff02b"
      },
      "execution_count": 13,
      "outputs": [
        {
          "output_type": "execute_result",
          "data": {
            "text/plain": [
              "<bound method NDFrame.describe of      pais_id       pais                          mercado   año     mes  \\\n",
              "0         32  Argentina  Mercado Central de Buenos Aires  2017   Enero   \n",
              "1         32  Argentina  Mercado Central de Buenos Aires  2017   Enero   \n",
              "2         32  Argentina  Mercado Central de Buenos Aires  2017   Enero   \n",
              "3         32  Argentina  Mercado Central de Buenos Aires  2017   Enero   \n",
              "4         32  Argentina  Mercado Central de Buenos Aires  2017   Enero   \n",
              "..       ...        ...                              ...   ...     ...   \n",
              "823       32  Argentina  Mercado Central de Buenos Aires  2018  Agosto   \n",
              "824       32  Argentina  Mercado Central de Buenos Aires  2018  Agosto   \n",
              "825       32  Argentina  Mercado Central de Buenos Aires  2018  Agosto   \n",
              "826       32  Argentina  Mercado Central de Buenos Aires  2018  Agosto   \n",
              "827       32  Argentina  Mercado Central de Buenos Aires  2018  Agosto   \n",
              "\n",
              "      producto       variedad         origen  precio_usd_kg moneda_cod  \\\n",
              "0        Anana         Perola         Brasil           1.22        USD   \n",
              "1       Banana        Cavdich        Ecuador           0.53        USD   \n",
              "2       Pomelo      Star Ruby      Argentina           0.86        USD   \n",
              "3        Limón         Eureka      Argentina           1.52        USD   \n",
              "4      Manzana   Granny Smith      Argentina           1.84        USD   \n",
              "..         ...            ...            ...            ...        ...   \n",
              "823    Repollo  s/especificar  s/especificar           0.36        USD   \n",
              "824     Tomate  s/especificar  s/especificar           1.15        USD   \n",
              "825  Zanahoria  s/especificar  s/especificar           0.29        USD   \n",
              "826  Zapallito  s/especificar  s/especificar           1.01        USD   \n",
              "827    Zapallo  s/especificar  s/especificar           0.32        USD   \n",
              "\n",
              "      moneda  \n",
              "0    Dolares  \n",
              "1    Dolares  \n",
              "2    Dolares  \n",
              "3    Dolares  \n",
              "4    Dolares  \n",
              "..       ...  \n",
              "823  Dolares  \n",
              "824  Dolares  \n",
              "825  Dolares  \n",
              "826  Dolares  \n",
              "827  Dolares  \n",
              "\n",
              "[828 rows x 11 columns]>"
            ]
          },
          "metadata": {},
          "execution_count": 13
        }
      ]
    },
    {
      "cell_type": "code",
      "source": [
        "#Vamos a mostrar las variables ordenadas de nuestro dataset\n",
        "variables = df_mercadocentral.columns\n",
        "variables_ordenadas = sorted(variables)\n",
        "print(variables_ordenadas)"
      ],
      "metadata": {
        "colab": {
          "base_uri": "https://localhost:8080/"
        },
        "id": "OgQnsRnf_sxo",
        "outputId": "682dba73-d008-425a-f5c6-12104197bdec"
      },
      "execution_count": 15,
      "outputs": [
        {
          "output_type": "stream",
          "name": "stdout",
          "text": [
            "['año', 'mercado', 'mes', 'moneda', 'moneda_cod', 'origen', 'pais', 'pais_id', 'precio_usd_kg', 'producto', 'variedad']\n"
          ]
        }
      ]
    },
    {
      "cell_type": "code",
      "source": [
        "df_mercadocentral.isnull().sum()"
      ],
      "metadata": {
        "colab": {
          "base_uri": "https://localhost:8080/"
        },
        "id": "rjDq9CrKCczX",
        "outputId": "ec7742e5-c829-4658-800c-bd87f00e0653"
      },
      "execution_count": 18,
      "outputs": [
        {
          "output_type": "execute_result",
          "data": {
            "text/plain": [
              "pais_id           0\n",
              "pais              0\n",
              "mercado           0\n",
              "año               0\n",
              "mes               0\n",
              "producto          0\n",
              "variedad          0\n",
              "origen            0\n",
              "precio_usd_kg    61\n",
              "moneda_cod        0\n",
              "moneda            0\n",
              "dtype: int64"
            ]
          },
          "metadata": {},
          "execution_count": 18
        }
      ]
    },
    {
      "cell_type": "markdown",
      "source": [
        "##3- Aplicar PROCESO DE LIMPIEZA"
      ],
      "metadata": {
        "id": "sjms7ns6zW-9"
      }
    },
    {
      "cell_type": "code",
      "source": [
        "# vemos que solamente tenemos en la variable de precio_usd_kg un total de 61 valores nulos por lo tanto vamos a limpiar eso.\n",
        "df_mercadocentral = df_mercadocentral.dropna(subset=['precio_usd_kg'])\n",
        "#Reemplazamos los valores nulos con la media:\n",
        "mean = df_mercadocentral['precio_usd_kg'].mean()\n",
        "df_mercadocentral['precio_usd_kg'].fillna(mean, inplace=True)\n",
        "#Mostramos el data set de nuevo\n",
        "df_mercadocentral"
      ],
      "metadata": {
        "id": "xxgjEruPzjL_",
        "colab": {
          "base_uri": "https://localhost:8080/",
          "height": 424
        },
        "outputId": "da355f3a-3c7b-4246-c495-9a084ebf3567"
      },
      "execution_count": 23,
      "outputs": [
        {
          "output_type": "execute_result",
          "data": {
            "text/plain": [
              "     pais_id       pais                          mercado   año     mes  \\\n",
              "0         32  Argentina  Mercado Central de Buenos Aires  2017   Enero   \n",
              "1         32  Argentina  Mercado Central de Buenos Aires  2017   Enero   \n",
              "2         32  Argentina  Mercado Central de Buenos Aires  2017   Enero   \n",
              "3         32  Argentina  Mercado Central de Buenos Aires  2017   Enero   \n",
              "4         32  Argentina  Mercado Central de Buenos Aires  2017   Enero   \n",
              "..       ...        ...                              ...   ...     ...   \n",
              "823       32  Argentina  Mercado Central de Buenos Aires  2018  Agosto   \n",
              "824       32  Argentina  Mercado Central de Buenos Aires  2018  Agosto   \n",
              "825       32  Argentina  Mercado Central de Buenos Aires  2018  Agosto   \n",
              "826       32  Argentina  Mercado Central de Buenos Aires  2018  Agosto   \n",
              "827       32  Argentina  Mercado Central de Buenos Aires  2018  Agosto   \n",
              "\n",
              "      producto       variedad         origen  precio_usd_kg moneda_cod  \\\n",
              "0        Anana         Perola         Brasil           1.22        USD   \n",
              "1       Banana        Cavdich        Ecuador           0.53        USD   \n",
              "2       Pomelo      Star Ruby      Argentina           0.86        USD   \n",
              "3        Limón         Eureka      Argentina           1.52        USD   \n",
              "4      Manzana   Granny Smith      Argentina           1.84        USD   \n",
              "..         ...            ...            ...            ...        ...   \n",
              "823    Repollo  s/especificar  s/especificar           0.36        USD   \n",
              "824     Tomate  s/especificar  s/especificar           1.15        USD   \n",
              "825  Zanahoria  s/especificar  s/especificar           0.29        USD   \n",
              "826  Zapallito  s/especificar  s/especificar           1.01        USD   \n",
              "827    Zapallo  s/especificar  s/especificar           0.32        USD   \n",
              "\n",
              "      moneda  \n",
              "0    Dolares  \n",
              "1    Dolares  \n",
              "2    Dolares  \n",
              "3    Dolares  \n",
              "4    Dolares  \n",
              "..       ...  \n",
              "823  Dolares  \n",
              "824  Dolares  \n",
              "825  Dolares  \n",
              "826  Dolares  \n",
              "827  Dolares  \n",
              "\n",
              "[767 rows x 11 columns]"
            ],
            "text/html": [
              "\n",
              "  <div id=\"df-3db1630b-56a8-441f-9e2c-25a40f8805d7\" class=\"colab-df-container\">\n",
              "    <div>\n",
              "<style scoped>\n",
              "    .dataframe tbody tr th:only-of-type {\n",
              "        vertical-align: middle;\n",
              "    }\n",
              "\n",
              "    .dataframe tbody tr th {\n",
              "        vertical-align: top;\n",
              "    }\n",
              "\n",
              "    .dataframe thead th {\n",
              "        text-align: right;\n",
              "    }\n",
              "</style>\n",
              "<table border=\"1\" class=\"dataframe\">\n",
              "  <thead>\n",
              "    <tr style=\"text-align: right;\">\n",
              "      <th></th>\n",
              "      <th>pais_id</th>\n",
              "      <th>pais</th>\n",
              "      <th>mercado</th>\n",
              "      <th>año</th>\n",
              "      <th>mes</th>\n",
              "      <th>producto</th>\n",
              "      <th>variedad</th>\n",
              "      <th>origen</th>\n",
              "      <th>precio_usd_kg</th>\n",
              "      <th>moneda_cod</th>\n",
              "      <th>moneda</th>\n",
              "    </tr>\n",
              "  </thead>\n",
              "  <tbody>\n",
              "    <tr>\n",
              "      <th>0</th>\n",
              "      <td>32</td>\n",
              "      <td>Argentina</td>\n",
              "      <td>Mercado Central de Buenos Aires</td>\n",
              "      <td>2017</td>\n",
              "      <td>Enero</td>\n",
              "      <td>Anana</td>\n",
              "      <td>Perola</td>\n",
              "      <td>Brasil</td>\n",
              "      <td>1.22</td>\n",
              "      <td>USD</td>\n",
              "      <td>Dolares</td>\n",
              "    </tr>\n",
              "    <tr>\n",
              "      <th>1</th>\n",
              "      <td>32</td>\n",
              "      <td>Argentina</td>\n",
              "      <td>Mercado Central de Buenos Aires</td>\n",
              "      <td>2017</td>\n",
              "      <td>Enero</td>\n",
              "      <td>Banana</td>\n",
              "      <td>Cavdich</td>\n",
              "      <td>Ecuador</td>\n",
              "      <td>0.53</td>\n",
              "      <td>USD</td>\n",
              "      <td>Dolares</td>\n",
              "    </tr>\n",
              "    <tr>\n",
              "      <th>2</th>\n",
              "      <td>32</td>\n",
              "      <td>Argentina</td>\n",
              "      <td>Mercado Central de Buenos Aires</td>\n",
              "      <td>2017</td>\n",
              "      <td>Enero</td>\n",
              "      <td>Pomelo</td>\n",
              "      <td>Star Ruby</td>\n",
              "      <td>Argentina</td>\n",
              "      <td>0.86</td>\n",
              "      <td>USD</td>\n",
              "      <td>Dolares</td>\n",
              "    </tr>\n",
              "    <tr>\n",
              "      <th>3</th>\n",
              "      <td>32</td>\n",
              "      <td>Argentina</td>\n",
              "      <td>Mercado Central de Buenos Aires</td>\n",
              "      <td>2017</td>\n",
              "      <td>Enero</td>\n",
              "      <td>Limón</td>\n",
              "      <td>Eureka</td>\n",
              "      <td>Argentina</td>\n",
              "      <td>1.52</td>\n",
              "      <td>USD</td>\n",
              "      <td>Dolares</td>\n",
              "    </tr>\n",
              "    <tr>\n",
              "      <th>4</th>\n",
              "      <td>32</td>\n",
              "      <td>Argentina</td>\n",
              "      <td>Mercado Central de Buenos Aires</td>\n",
              "      <td>2017</td>\n",
              "      <td>Enero</td>\n",
              "      <td>Manzana</td>\n",
              "      <td>Granny Smith</td>\n",
              "      <td>Argentina</td>\n",
              "      <td>1.84</td>\n",
              "      <td>USD</td>\n",
              "      <td>Dolares</td>\n",
              "    </tr>\n",
              "    <tr>\n",
              "      <th>...</th>\n",
              "      <td>...</td>\n",
              "      <td>...</td>\n",
              "      <td>...</td>\n",
              "      <td>...</td>\n",
              "      <td>...</td>\n",
              "      <td>...</td>\n",
              "      <td>...</td>\n",
              "      <td>...</td>\n",
              "      <td>...</td>\n",
              "      <td>...</td>\n",
              "      <td>...</td>\n",
              "    </tr>\n",
              "    <tr>\n",
              "      <th>823</th>\n",
              "      <td>32</td>\n",
              "      <td>Argentina</td>\n",
              "      <td>Mercado Central de Buenos Aires</td>\n",
              "      <td>2018</td>\n",
              "      <td>Agosto</td>\n",
              "      <td>Repollo</td>\n",
              "      <td>s/especificar</td>\n",
              "      <td>s/especificar</td>\n",
              "      <td>0.36</td>\n",
              "      <td>USD</td>\n",
              "      <td>Dolares</td>\n",
              "    </tr>\n",
              "    <tr>\n",
              "      <th>824</th>\n",
              "      <td>32</td>\n",
              "      <td>Argentina</td>\n",
              "      <td>Mercado Central de Buenos Aires</td>\n",
              "      <td>2018</td>\n",
              "      <td>Agosto</td>\n",
              "      <td>Tomate</td>\n",
              "      <td>s/especificar</td>\n",
              "      <td>s/especificar</td>\n",
              "      <td>1.15</td>\n",
              "      <td>USD</td>\n",
              "      <td>Dolares</td>\n",
              "    </tr>\n",
              "    <tr>\n",
              "      <th>825</th>\n",
              "      <td>32</td>\n",
              "      <td>Argentina</td>\n",
              "      <td>Mercado Central de Buenos Aires</td>\n",
              "      <td>2018</td>\n",
              "      <td>Agosto</td>\n",
              "      <td>Zanahoria</td>\n",
              "      <td>s/especificar</td>\n",
              "      <td>s/especificar</td>\n",
              "      <td>0.29</td>\n",
              "      <td>USD</td>\n",
              "      <td>Dolares</td>\n",
              "    </tr>\n",
              "    <tr>\n",
              "      <th>826</th>\n",
              "      <td>32</td>\n",
              "      <td>Argentina</td>\n",
              "      <td>Mercado Central de Buenos Aires</td>\n",
              "      <td>2018</td>\n",
              "      <td>Agosto</td>\n",
              "      <td>Zapallito</td>\n",
              "      <td>s/especificar</td>\n",
              "      <td>s/especificar</td>\n",
              "      <td>1.01</td>\n",
              "      <td>USD</td>\n",
              "      <td>Dolares</td>\n",
              "    </tr>\n",
              "    <tr>\n",
              "      <th>827</th>\n",
              "      <td>32</td>\n",
              "      <td>Argentina</td>\n",
              "      <td>Mercado Central de Buenos Aires</td>\n",
              "      <td>2018</td>\n",
              "      <td>Agosto</td>\n",
              "      <td>Zapallo</td>\n",
              "      <td>s/especificar</td>\n",
              "      <td>s/especificar</td>\n",
              "      <td>0.32</td>\n",
              "      <td>USD</td>\n",
              "      <td>Dolares</td>\n",
              "    </tr>\n",
              "  </tbody>\n",
              "</table>\n",
              "<p>767 rows × 11 columns</p>\n",
              "</div>\n",
              "    <div class=\"colab-df-buttons\">\n",
              "\n",
              "  <div class=\"colab-df-container\">\n",
              "    <button class=\"colab-df-convert\" onclick=\"convertToInteractive('df-3db1630b-56a8-441f-9e2c-25a40f8805d7')\"\n",
              "            title=\"Convert this dataframe to an interactive table.\"\n",
              "            style=\"display:none;\">\n",
              "\n",
              "  <svg xmlns=\"http://www.w3.org/2000/svg\" height=\"24px\" viewBox=\"0 -960 960 960\">\n",
              "    <path d=\"M120-120v-720h720v720H120Zm60-500h600v-160H180v160Zm220 220h160v-160H400v160Zm0 220h160v-160H400v160ZM180-400h160v-160H180v160Zm440 0h160v-160H620v160ZM180-180h160v-160H180v160Zm440 0h160v-160H620v160Z\"/>\n",
              "  </svg>\n",
              "    </button>\n",
              "\n",
              "  <style>\n",
              "    .colab-df-container {\n",
              "      display:flex;\n",
              "      gap: 12px;\n",
              "    }\n",
              "\n",
              "    .colab-df-convert {\n",
              "      background-color: #E8F0FE;\n",
              "      border: none;\n",
              "      border-radius: 50%;\n",
              "      cursor: pointer;\n",
              "      display: none;\n",
              "      fill: #1967D2;\n",
              "      height: 32px;\n",
              "      padding: 0 0 0 0;\n",
              "      width: 32px;\n",
              "    }\n",
              "\n",
              "    .colab-df-convert:hover {\n",
              "      background-color: #E2EBFA;\n",
              "      box-shadow: 0px 1px 2px rgba(60, 64, 67, 0.3), 0px 1px 3px 1px rgba(60, 64, 67, 0.15);\n",
              "      fill: #174EA6;\n",
              "    }\n",
              "\n",
              "    .colab-df-buttons div {\n",
              "      margin-bottom: 4px;\n",
              "    }\n",
              "\n",
              "    [theme=dark] .colab-df-convert {\n",
              "      background-color: #3B4455;\n",
              "      fill: #D2E3FC;\n",
              "    }\n",
              "\n",
              "    [theme=dark] .colab-df-convert:hover {\n",
              "      background-color: #434B5C;\n",
              "      box-shadow: 0px 1px 3px 1px rgba(0, 0, 0, 0.15);\n",
              "      filter: drop-shadow(0px 1px 2px rgba(0, 0, 0, 0.3));\n",
              "      fill: #FFFFFF;\n",
              "    }\n",
              "  </style>\n",
              "\n",
              "    <script>\n",
              "      const buttonEl =\n",
              "        document.querySelector('#df-3db1630b-56a8-441f-9e2c-25a40f8805d7 button.colab-df-convert');\n",
              "      buttonEl.style.display =\n",
              "        google.colab.kernel.accessAllowed ? 'block' : 'none';\n",
              "\n",
              "      async function convertToInteractive(key) {\n",
              "        const element = document.querySelector('#df-3db1630b-56a8-441f-9e2c-25a40f8805d7');\n",
              "        const dataTable =\n",
              "          await google.colab.kernel.invokeFunction('convertToInteractive',\n",
              "                                                    [key], {});\n",
              "        if (!dataTable) return;\n",
              "\n",
              "        const docLinkHtml = 'Like what you see? Visit the ' +\n",
              "          '<a target=\"_blank\" href=https://colab.research.google.com/notebooks/data_table.ipynb>data table notebook</a>'\n",
              "          + ' to learn more about interactive tables.';\n",
              "        element.innerHTML = '';\n",
              "        dataTable['output_type'] = 'display_data';\n",
              "        await google.colab.output.renderOutput(dataTable, element);\n",
              "        const docLink = document.createElement('div');\n",
              "        docLink.innerHTML = docLinkHtml;\n",
              "        element.appendChild(docLink);\n",
              "      }\n",
              "    </script>\n",
              "  </div>\n",
              "\n",
              "\n",
              "<div id=\"df-28732f6d-ac9d-452c-81d9-98bf56ce384c\">\n",
              "  <button class=\"colab-df-quickchart\" onclick=\"quickchart('df-28732f6d-ac9d-452c-81d9-98bf56ce384c')\"\n",
              "            title=\"Suggest charts.\"\n",
              "            style=\"display:none;\">\n",
              "\n",
              "<svg xmlns=\"http://www.w3.org/2000/svg\" height=\"24px\"viewBox=\"0 0 24 24\"\n",
              "     width=\"24px\">\n",
              "    <g>\n",
              "        <path d=\"M19 3H5c-1.1 0-2 .9-2 2v14c0 1.1.9 2 2 2h14c1.1 0 2-.9 2-2V5c0-1.1-.9-2-2-2zM9 17H7v-7h2v7zm4 0h-2V7h2v10zm4 0h-2v-4h2v4z\"/>\n",
              "    </g>\n",
              "</svg>\n",
              "  </button>\n",
              "\n",
              "<style>\n",
              "  .colab-df-quickchart {\n",
              "      --bg-color: #E8F0FE;\n",
              "      --fill-color: #1967D2;\n",
              "      --hover-bg-color: #E2EBFA;\n",
              "      --hover-fill-color: #174EA6;\n",
              "      --disabled-fill-color: #AAA;\n",
              "      --disabled-bg-color: #DDD;\n",
              "  }\n",
              "\n",
              "  [theme=dark] .colab-df-quickchart {\n",
              "      --bg-color: #3B4455;\n",
              "      --fill-color: #D2E3FC;\n",
              "      --hover-bg-color: #434B5C;\n",
              "      --hover-fill-color: #FFFFFF;\n",
              "      --disabled-bg-color: #3B4455;\n",
              "      --disabled-fill-color: #666;\n",
              "  }\n",
              "\n",
              "  .colab-df-quickchart {\n",
              "    background-color: var(--bg-color);\n",
              "    border: none;\n",
              "    border-radius: 50%;\n",
              "    cursor: pointer;\n",
              "    display: none;\n",
              "    fill: var(--fill-color);\n",
              "    height: 32px;\n",
              "    padding: 0;\n",
              "    width: 32px;\n",
              "  }\n",
              "\n",
              "  .colab-df-quickchart:hover {\n",
              "    background-color: var(--hover-bg-color);\n",
              "    box-shadow: 0 1px 2px rgba(60, 64, 67, 0.3), 0 1px 3px 1px rgba(60, 64, 67, 0.15);\n",
              "    fill: var(--button-hover-fill-color);\n",
              "  }\n",
              "\n",
              "  .colab-df-quickchart-complete:disabled,\n",
              "  .colab-df-quickchart-complete:disabled:hover {\n",
              "    background-color: var(--disabled-bg-color);\n",
              "    fill: var(--disabled-fill-color);\n",
              "    box-shadow: none;\n",
              "  }\n",
              "\n",
              "  .colab-df-spinner {\n",
              "    border: 2px solid var(--fill-color);\n",
              "    border-color: transparent;\n",
              "    border-bottom-color: var(--fill-color);\n",
              "    animation:\n",
              "      spin 1s steps(1) infinite;\n",
              "  }\n",
              "\n",
              "  @keyframes spin {\n",
              "    0% {\n",
              "      border-color: transparent;\n",
              "      border-bottom-color: var(--fill-color);\n",
              "      border-left-color: var(--fill-color);\n",
              "    }\n",
              "    20% {\n",
              "      border-color: transparent;\n",
              "      border-left-color: var(--fill-color);\n",
              "      border-top-color: var(--fill-color);\n",
              "    }\n",
              "    30% {\n",
              "      border-color: transparent;\n",
              "      border-left-color: var(--fill-color);\n",
              "      border-top-color: var(--fill-color);\n",
              "      border-right-color: var(--fill-color);\n",
              "    }\n",
              "    40% {\n",
              "      border-color: transparent;\n",
              "      border-right-color: var(--fill-color);\n",
              "      border-top-color: var(--fill-color);\n",
              "    }\n",
              "    60% {\n",
              "      border-color: transparent;\n",
              "      border-right-color: var(--fill-color);\n",
              "    }\n",
              "    80% {\n",
              "      border-color: transparent;\n",
              "      border-right-color: var(--fill-color);\n",
              "      border-bottom-color: var(--fill-color);\n",
              "    }\n",
              "    90% {\n",
              "      border-color: transparent;\n",
              "      border-bottom-color: var(--fill-color);\n",
              "    }\n",
              "  }\n",
              "</style>\n",
              "\n",
              "  <script>\n",
              "    async function quickchart(key) {\n",
              "      const quickchartButtonEl =\n",
              "        document.querySelector('#' + key + ' button');\n",
              "      quickchartButtonEl.disabled = true;  // To prevent multiple clicks.\n",
              "      quickchartButtonEl.classList.add('colab-df-spinner');\n",
              "      try {\n",
              "        const charts = await google.colab.kernel.invokeFunction(\n",
              "            'suggestCharts', [key], {});\n",
              "      } catch (error) {\n",
              "        console.error('Error during call to suggestCharts:', error);\n",
              "      }\n",
              "      quickchartButtonEl.classList.remove('colab-df-spinner');\n",
              "      quickchartButtonEl.classList.add('colab-df-quickchart-complete');\n",
              "    }\n",
              "    (() => {\n",
              "      let quickchartButtonEl =\n",
              "        document.querySelector('#df-28732f6d-ac9d-452c-81d9-98bf56ce384c button');\n",
              "      quickchartButtonEl.style.display =\n",
              "        google.colab.kernel.accessAllowed ? 'block' : 'none';\n",
              "    })();\n",
              "  </script>\n",
              "</div>\n",
              "    </div>\n",
              "  </div>\n"
            ]
          },
          "metadata": {},
          "execution_count": 23
        }
      ]
    },
    {
      "cell_type": "code",
      "source": [
        "#Corroboramos que la limpieza esta bien hecha\n",
        "df_mercadocentral.isnull().sum()"
      ],
      "metadata": {
        "colab": {
          "base_uri": "https://localhost:8080/"
        },
        "id": "fASesqepD2Vo",
        "outputId": "79285ae8-566e-4776-97e3-bb8dfdf6d6a2"
      },
      "execution_count": 24,
      "outputs": [
        {
          "output_type": "execute_result",
          "data": {
            "text/plain": [
              "pais_id          0\n",
              "pais             0\n",
              "mercado          0\n",
              "año              0\n",
              "mes              0\n",
              "producto         0\n",
              "variedad         0\n",
              "origen           0\n",
              "precio_usd_kg    0\n",
              "moneda_cod       0\n",
              "moneda           0\n",
              "dtype: int64"
            ]
          },
          "metadata": {},
          "execution_count": 24
        }
      ]
    },
    {
      "cell_type": "markdown",
      "source": [
        "##4- Aplicar PROCESO para DEFINIR tu X e Y para APLICAR REGRESION LINEAL Y LOGISTICA segun el DATA SET a las variables que consideres adecuadas. RECUERDA ESTANDARIZAR LAS VARIABLES PARA CORRELACIÓN LOGÍSTICA."
      ],
      "metadata": {
        "id": "hSzNV8PczkA2"
      }
    },
    {
      "cell_type": "code",
      "source": [
        "from sklearn.model_selection import train_test_split\n",
        "from sklearn.linear_model import LinearRegression\n",
        "#Queremos predecir  el precio en usd en funcion del año\n",
        "# Definir X e Y\n",
        "X = df_mercadocentral[['año']]\n",
        "Y = df_mercadocentral['precio_usd_kg']\n",
        "\n",
        "# Dividir el conjunto de datos en conjuntos de entrenamiento y prueba\n",
        "X_train, X_test, Y_train, Y_test = train_test_split(X, Y, test_size=0.2, random_state=42)\n",
        "\n",
        "# Crear un modelo de regresión lineal\n",
        "model = LinearRegression()\n",
        "\n",
        "# Entrenar el modelo\n",
        "model.fit(X_train, Y_train)\n",
        "\n",
        "# Predecir los valores de 'precio_usd_kg' para el conjunto de prueba\n",
        "Y_pred = model.predict(X_test)\n"
      ],
      "metadata": {
        "id": "jFO4jxOYz7IM"
      },
      "execution_count": 32,
      "outputs": []
    },
    {
      "cell_type": "code",
      "source": [
        "X_train"
      ],
      "metadata": {
        "id": "WWRL-JDIHp3h"
      },
      "execution_count": null,
      "outputs": []
    },
    {
      "cell_type": "code",
      "source": [
        "Y_train"
      ],
      "metadata": {
        "id": "heQr9hanHtLU"
      },
      "execution_count": null,
      "outputs": []
    },
    {
      "cell_type": "code",
      "source": [
        "X_test"
      ],
      "metadata": {
        "id": "aLmWR8ouHvO-"
      },
      "execution_count": null,
      "outputs": []
    },
    {
      "cell_type": "markdown",
      "source": [
        "##5- Aplicar alguna METRICAS de EVALUACION a los modelos anteriores y justificar la elección de dicha métrica."
      ],
      "metadata": {
        "id": "acd2_sj6z706"
      }
    },
    {
      "cell_type": "code",
      "source": [
        "#El MSE es una métrica común para evaluar modelos de regresión lineal. Cuanto más pequeño sea el MSE, mejor será el modelo.\n",
        "\n",
        "from sklearn.metrics import mean_squared_error\n",
        "\n",
        "# Calcular el error cuadrático medio (MSE)\n",
        "mse = mean_squared_error(Y_test, Y_pred)\n",
        "\n",
        "print('Error cuadrático medio: ', mse)"
      ],
      "metadata": {
        "id": "K5Oaz4h_0CA8",
        "colab": {
          "base_uri": "https://localhost:8080/"
        },
        "outputId": "50521919-f0f7-4b88-e86a-8d9bda7f234b"
      },
      "execution_count": 33,
      "outputs": [
        {
          "output_type": "stream",
          "name": "stdout",
          "text": [
            "Error cuadrático medio:  1.9930277760621065\n"
          ]
        }
      ]
    },
    {
      "cell_type": "code",
      "source": [
        "#El MAE calcula el promedio de las diferencias absolutas entre las predicciones y los valores reales. Es una métrica fácil de entender porque simplemente mide el error promedio\n",
        "\n",
        "from sklearn.metrics import mean_absolute_error, r2_score\n",
        "\n",
        "# Calcular el error absoluto medio (MAE)\n",
        "mae = mean_absolute_error(Y_test, Y_pred)\n",
        "print('Error absoluto medio: ', mae)\n",
        "\n",
        "#Esta métrica proporciona una medida de cuánto de la variabilidad total en Y es explicada por el modelo\n",
        "\n",
        "# Calcular el coeficiente de determinación (R^2)\n",
        "r2 = r2_score(Y_test, Y_pred)\n",
        "print('Coeficiente de determinación: ', r2)\n"
      ],
      "metadata": {
        "colab": {
          "base_uri": "https://localhost:8080/"
        },
        "id": "8HK26exkIg3P",
        "outputId": "82762c0c-9d2d-4838-d2ff-c841365b64fb"
      },
      "execution_count": 34,
      "outputs": [
        {
          "output_type": "stream",
          "name": "stdout",
          "text": [
            "Error absoluto medio:  0.8031186305960928\n",
            "Coeficiente de determinación:  -0.010411992943752502\n"
          ]
        }
      ]
    },
    {
      "cell_type": "markdown",
      "source": [
        "##6- Sacar una conclusión en función de los resultados, errores, y predicciones."
      ],
      "metadata": {
        "id": "eyul6-kk0Cgt"
      }
    },
    {
      "cell_type": "markdown",
      "source": [
        "Lo iba aclarar en el punto 5 pero tal vez se hacia muy repetitivo al pasarlo en este punto.\n",
        "\n",
        "Recordemos lo siguiente:\n",
        "\n",
        "El mse Cuanto más pequeño sea el MSE, mejor será el modelo.\n",
        "\n",
        "El MAE es una métrica fácil de entender porque simplemente mide el error promedio.\n",
        "\n",
        "El R^2 cercano a 1 indica que el modelo puede explicar la mayoría de la variabilidad en los datos observados, mientras que un R^2 cercano a 0 indica que el modelo no explica mucho de la variabilidad en los datos.\n",
        "\n",
        "\n",
        "\n",
        "Entonces nosotros obtuvimos los siguientes valores:\n",
        " (MSE) Error cuadrático medio:  1.993027776062106, lo cual indica que el modelo tiene un error de aprox 1.993 al predecir el precio_usd_kg, nuestras predicciones se desvian esa cantidad del valor real.\n",
        "\n",
        " (MAE) quedo con un error absoluto medio de 0.803 aprox que es lo que se desvia del valor real sin tener en cuenta la direccion de la variacion.\n",
        "\n",
        " El R^2 es de -0.0104 esta mas cerca del 0 por lo tanto el modelo no explica mucho de la variabilidad de los datos.\n",
        "\n",
        " En resumen podemos decir que nuestro modelo  de regresion lineal no se ajusta muy bien a los datos y no proporciona buenas predicciones para las variables obtenidas."
      ],
      "metadata": {
        "id": "EqM_ZnghKQpG"
      }
    },
    {
      "cell_type": "markdown",
      "source": [
        "##7- Aplicar un MODELO DE APRENDIZAJE NO SUPERVISADO (k-means, arbol de  decisión, KNN) Con el resultado obtenido del algoritmo de agrupamiento elegido, agregar al dataset una columna con esta nueva variables del grupo al que pertenece cada dato.\n"
      ],
      "metadata": {
        "id": "xMm73P9l0G_V"
      }
    },
    {
      "cell_type": "code",
      "source": [
        "from sklearn.cluster import KMeans\n",
        "\n",
        "# Definir el número de clusters\n",
        "n_clusters = 3\n",
        "\n",
        "# Crear un modelo k-means\n",
        "kmeans = KMeans(n_clusters=n_clusters)\n",
        "\n",
        "# Ajustar el modelo a los datos\n",
        "kmeans.fit(df_mercadocentral[['precio_usd_kg']])\n",
        "\n",
        "# Obtener las etiquetas de los clusters\n",
        "labels = kmeans.labels_\n",
        "\n",
        "# Agregar las etiquetas al DataFrame como una nueva columna\n",
        "df_mercadocentral['cluster'] = labels\n"
      ],
      "metadata": {
        "id": "WZwplaoM0JFk",
        "colab": {
          "base_uri": "https://localhost:8080/"
        },
        "outputId": "cb9b3b8a-d266-42af-dc43-289e4cf90efc"
      },
      "execution_count": 36,
      "outputs": [
        {
          "output_type": "stream",
          "name": "stderr",
          "text": [
            "/usr/local/lib/python3.10/dist-packages/sklearn/cluster/_kmeans.py:870: FutureWarning: The default value of `n_init` will change from 10 to 'auto' in 1.4. Set the value of `n_init` explicitly to suppress the warning\n",
            "  warnings.warn(\n"
          ]
        }
      ]
    },
    {
      "cell_type": "code",
      "source": [
        "import matplotlib.pyplot as plt\n",
        "\n",
        "# Crear una figura y un eje\n",
        "fig, ax = plt.subplots()\n",
        "\n",
        "# Crear un scatter plot con los datos de 'precio_usd_kg' y los colores basados en las etiquetas de los clusters\n",
        "scatter = ax.scatter(df_mercadocentral['año'], df_mercadocentral['precio_usd_kg'], c=df_mercadocentral['cluster'])\n",
        "\n",
        "# Mostrar el gráfico\n",
        "plt.show()\n"
      ],
      "metadata": {
        "colab": {
          "base_uri": "https://localhost:8080/",
          "height": 430
        },
        "id": "SgiLGbqUOLdb",
        "outputId": "66b784b6-8f6c-48bf-c107-f3e5e57bd3e7"
      },
      "execution_count": 37,
      "outputs": [
        {
          "output_type": "display_data",
          "data": {
            "text/plain": [
              "<Figure size 640x480 with 1 Axes>"
            ],
            "image/png": "[encoded data removed]"
          },
          "metadata": {}
        }
      ]
    },
    {
      "cell_type": "code",
      "source": [
        "from sklearn.cluster import DBSCAN\n",
        "\n",
        "# Crear un modelo DBSCAN\n",
        "dbscan = DBSCAN(eps=0.5, min_samples=5)\n",
        "\n",
        "# Ajustar el modelo a los datos\n",
        "dbscan.fit(df_mercadocentral[['precio_usd_kg']])\n",
        "\n",
        "# Obtener las etiquetas de los clusters\n",
        "labels = dbscan.labels_\n",
        "\n",
        "# Agregar las etiquetas al DataFrame como una nueva columna\n",
        "df_mercadocentral['cluster'] = labels\n"
      ],
      "metadata": {
        "id": "YHEBtiKqP6mG"
      },
      "execution_count": 41,
      "outputs": []
    },
    {
      "cell_type": "code",
      "source": [
        "import matplotlib.pyplot as plt\n",
        "\n",
        "# Crear una figura y un eje\n",
        "fig, ax = plt.subplots()\n",
        "\n",
        "# Crear un scatter plot con los datos de 'precio_usd_kg' y los colores basados en las etiquetas de los clusters\n",
        "scatter = ax.scatter(df_mercadocentral['año'], df_mercadocentral['precio_usd_kg'], c=df_mercadocentral['cluster'])\n",
        "\n",
        "# Mostrar el gráfico\n",
        "plt.show()\n"
      ],
      "metadata": {
        "colab": {
          "base_uri": "https://localhost:8080/",
          "height": 430
        },
        "id": "iHUU6LJ_P84h",
        "outputId": "13efdc73-6fa1-4a2f-f8b7-51096e1b26ae"
      },
      "execution_count": 42,
      "outputs": [
        {
          "output_type": "display_data",
          "data": {
            "text/plain": [
              "<Figure size 640x480 with 1 Axes>"
            ],
            "image/png": "[encoded data removed]"
          },
          "metadata": {}
        }
      ]
    },
    {
      "cell_type": "markdown",
      "source": [
        "Una breve aclaracion de los modelos utilizados:\n",
        "\n",
        "KMeans: Es un algoritmo de agrupamiento basado en centroides. Parte de un número inicial de clusters y asigna cada punto al cluster más cercano. Luego recalcula los centroides y repite el proceso hasta que los clusters ya no cambian.\n",
        "\n",
        "DBSCAN es un algoritmo de agrupamiento basado en densidad. No necesita un número inicial de clusters. En su lugar, agrupa puntos que están cerca entre sí en el espacio de características y que tienen un número mínimo de vecinos.\n",
        "\n",
        "\n",
        "En términos de visualización, ambos pueden producir gráficos similares si los datos se agrupan de manera similar. Sin embargo, DBSCAN tiene la ventaja adicional de poder encontrar clusters de formas arbitrarias, mientras que k-means tiende a encontrar clusters esféricos.\n"
      ],
      "metadata": {
        "id": "0ttLi2HqWJpm"
      }
    },
    {
      "cell_type": "markdown",
      "source": [
        "##8- Generar una conclusión con relación a como podría obtener mejores datos en este dataset, o que información considera importante que se podria evaluar para mejorar su predicción encontrada."
      ],
      "metadata": {
        "id": "HYoODPEl0Mnd"
      }
    },
    {
      "cell_type": "markdown",
      "source": [
        "Basándonos en el punto 7, podemos hacer las siguientes observaciones:\n",
        "\n",
        "- Los datos se agrupan en tres clusters distintos basados en el 'precio_usd_kg'. Esto podría indicar que existen ciertos rangos de precios que son más comunes en tus datos.\n",
        "\n",
        "- Sin embargo, todos los clusters se extienden a lo largo del mismo rango de años. Esto podría indicar que el 'año' no tiene un impacto significativo en la formación de estos clusters.\n",
        "\n",
        "- Para mejorar la predicción, podrías considerar incluir más variables en el modelo o usar otras para volver a hacer todo el proceso.\n",
        "\n",
        "Ahora observemos los dos graficos que hicimos donde vemos el espacio que falta entre los meses que abarcan del año 2017 al año 2018.Esto podria deberse a lo siguiente:\n",
        "\n",
        "- **Falta de datos**: Es posible que no se hayan recopilado o registrado datos durante ese período.\n",
        "\n",
        "- **Filtrado de datos**: Si se realizó algún tipo de filtrado o limpieza en los datos, es posible que se hayan eliminado los datos de ese período.\n",
        "\n",
        "- **Error en la recopilación de datos**: A veces, los errores en la recopilación o el almacenamiento de datos pueden llevar a que falten datos.\n",
        "\n",
        "Para concluir nuestro modelo de regresión lineal no proporcionó predicciones precisas, el análisis exploratorio y el agrupamiento nos dieron algunas ideas sobre la estructura y las tendencias en los datos. Para futuros análisis, podríamos considerar incluir más variables en nuestro modelo o probar diferentes técnicas de modelado."
      ],
      "metadata": {
        "id": "-OrbcNs4Wqip"
      }
    }
  ]
}